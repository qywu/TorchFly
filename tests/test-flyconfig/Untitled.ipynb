{
 "cells": [
  {
   "cell_type": "code",
   "execution_count": 1,
   "id": "dacafe2b",
   "metadata": {},
   "outputs": [],
   "source": [
    "import os\n",
    "from torchfly.flyconfig import FlyConfig"
   ]
  },
  {
   "cell_type": "code",
   "execution_count": 2,
   "id": "8e75a0d8",
   "metadata": {},
   "outputs": [],
   "source": [
    "config = FlyConfig.load(\"config/plain_config.yml\")"
   ]
  },
  {
   "cell_type": "code",
   "execution_count": 3,
   "id": "3e836fa6",
   "metadata": {},
   "outputs": [
    {
     "data": {
      "text/plain": [
       "False"
      ]
     },
     "execution_count": 3,
     "metadata": {},
     "output_type": "execute_result"
    }
   ],
   "source": [
    "'flylogger' in config"
   ]
  },
  {
   "cell_type": "code",
   "execution_count": 4,
   "id": "b959a826",
   "metadata": {},
   "outputs": [
    {
     "data": {
      "text/plain": [
       "False"
      ]
     },
     "execution_count": 4,
     "metadata": {},
     "output_type": "execute_result"
    }
   ],
   "source": [
    "'test' in config"
   ]
  },
  {
   "cell_type": "code",
   "execution_count": null,
   "id": "eebdde5b",
   "metadata": {},
   "outputs": [],
   "source": []
  },
  {
   "cell_type": "code",
   "execution_count": null,
   "id": "a3cac9e5",
   "metadata": {},
   "outputs": [],
   "source": []
  },
  {
   "cell_type": "code",
   "execution_count": null,
   "id": "e60117ad",
   "metadata": {},
   "outputs": [],
   "source": []
  },
  {
   "cell_type": "code",
   "execution_count": null,
   "id": "8ddd0b98",
   "metadata": {},
   "outputs": [],
   "source": []
  },
  {
   "cell_type": "code",
   "execution_count": null,
   "id": "efefde3c",
   "metadata": {},
   "outputs": [],
   "source": []
  }
 ],
 "metadata": {
  "kernelspec": {
   "display_name": "Python 3",
   "language": "python",
   "name": "python3"
  },
  "language_info": {
   "codemirror_mode": {
    "name": "ipython",
    "version": 3
   },
   "file_extension": ".py",
   "mimetype": "text/x-python",
   "name": "python",
   "nbconvert_exporter": "python",
   "pygments_lexer": "ipython3",
   "version": "3.8.3"
  }
 },
 "nbformat": 4,
 "nbformat_minor": 5
}
